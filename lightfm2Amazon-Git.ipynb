{
 "cells": [
  {
   "cell_type": "markdown",
   "metadata": {},
   "source": [
    "# How to save and Load lightFM model   \n",
    "Complete procedure to store and retrieve  local machine model from jupyter notebook to S3 account \n"
   ]
  },
  {
   "cell_type": "markdown",
   "metadata": {},
   "source": [
    "# Steps:  \n",
    "1. Open Amazon web services account.\n",
    "2. Do the needful settings.\n",
    "3. Create object .\n",
    "4. Develop pickle file (binary format) of machine learning model.\n",
    "5. Create bucket in S3 and\n",
    "6. Put that  pickled model object into bucket with proper naming.\n",
    "7. Get that model and recommend the suitable products to users.  \n"
   ]
  },
  {
   "cell_type": "markdown",
   "metadata": {},
   "source": [
    "## 1. Open amazon web service account:\n",
    "1. Go to website https://aws.amazon.com/, \n",
    "2. Click on middle position button having placeholder as ‘Create free account’.\n",
    "3. For more support visit below link \n",
    "https://aws.amazon.com/premiumsupport/knowledge-center/create-and-activate-aws-account/\n",
    "4. In this way create professional account.\n"
   ]
  },
  {
   "cell_type": "markdown",
   "metadata": {},
   "source": [
    "## 2. Do the console settings.  \n",
    "1. Rover mouse on top-right button named as your user name.\n",
    "2. Then click on drop down option ‘My Security Credentials’ \n",
    "3. Then at the middle of page, click on ‘Access keys (access key ID and secret access key)‘.\n",
    "4. Click on button named ‘Create New Access key’.\n",
    "5. In this way we will get two credentials ACCESS_ID and ACCESS_KEY.\n",
    "6. We can save it at local as .csv file and keep it confidential. \n",
    "7. In this way we are able to connect S3 programmatically. \n"
   ]
  },
  {
   "cell_type": "markdown",
   "metadata": {},
   "source": [
    "## 3. Create S3 object in jupyter notebook.  \n",
    "This will connects local jupyter notebook with aws account using necessary credentials.\n"
   ]
  },
  {
   "cell_type": "code",
   "execution_count": 28,
   "metadata": {},
   "outputs": [
    {
     "name": "stdout",
     "output_type": "stream",
     "text": [
      "Requirement already satisfied: boto3 in c:\\users\\suraj.sawant\\appdata\\local\\continuum\\anaconda3\\lib\\site-packages (1.11.6)\n",
      "Requirement already satisfied: s3transfer<0.4.0,>=0.3.0 in c:\\users\\suraj.sawant\\appdata\\local\\continuum\\anaconda3\\lib\\site-packages (from boto3) (0.3.1)\n",
      "Requirement already satisfied: jmespath<1.0.0,>=0.7.1 in c:\\users\\suraj.sawant\\appdata\\local\\continuum\\anaconda3\\lib\\site-packages (from boto3) (0.9.4)\n",
      "Requirement already satisfied: botocore<1.15.0,>=1.14.6 in c:\\users\\suraj.sawant\\appdata\\local\\continuum\\anaconda3\\lib\\site-packages (from boto3) (1.14.6)\n",
      "Requirement already satisfied: docutils<0.16,>=0.10 in c:\\users\\suraj.sawant\\appdata\\local\\continuum\\anaconda3\\lib\\site-packages (from botocore<1.15.0,>=1.14.6->boto3) (0.14)\n",
      "Requirement already satisfied: urllib3<1.26,>=1.20 in c:\\users\\suraj.sawant\\appdata\\local\\continuum\\anaconda3\\lib\\site-packages (from botocore<1.15.0,>=1.14.6->boto3) (1.24.1)\n",
      "Requirement already satisfied: python-dateutil<3.0.0,>=2.1 in c:\\users\\suraj.sawant\\appdata\\local\\continuum\\anaconda3\\lib\\site-packages (from botocore<1.15.0,>=1.14.6->boto3) (2.8.0)\n",
      "Requirement already satisfied: six>=1.5 in c:\\users\\suraj.sawant\\appdata\\local\\continuum\\anaconda3\\lib\\site-packages (from python-dateutil<3.0.0,>=2.1->botocore<1.15.0,>=1.14.6->boto3) (1.12.0)\n"
     ]
    }
   ],
   "source": [
    "!pip install boto3"
   ]
  },
  {
   "cell_type": "code",
   "execution_count": 1,
   "metadata": {},
   "outputs": [],
   "source": [
    "# Here I have hide my credentials!\n",
    "ACCESS_ID='XXXXXXXXXXXXXXXXXXX'\n",
    "ACCESS_KEY='XXXXX+03a75yYzlXXXXXXXXn+eRVFLxIyXXXXXXXXXX'\n",
    "import boto3\n",
    "s3 = boto3.resource('s3',\n",
    "     aws_access_key_id=ACCESS_ID,\n",
    "     aws_secret_access_key= ACCESS_KEY)"
   ]
  },
  {
   "cell_type": "markdown",
   "metadata": {},
   "source": [
    "## 4. Pickle the model object.\n"
   ]
  },
  {
   "cell_type": "code",
   "execution_count": 38,
   "metadata": {},
   "outputs": [],
   "source": [
    "def model_(df1, subject):\n",
    "    df = df1.copy()\n",
    "    from lightfm.data import Dataset\n",
    "    dataset = Dataset()\n",
    "    dataset.fit(users=df[subject].unique(), items=df.ProductId.unique())\n",
    "    (interactions, weights) = dataset.build_interactions([(x[subject], x['ProductId'], x['ratings'])\n",
    "                                                          for index, x in df.iterrows()])\n",
    "    \n",
    "    from lightfm import LightFM\n",
    "    model = LightFM(loss='warp')\n",
    "    model.fit(interactions, sample_weight=weights)\n",
    "    return model\n",
    "\n",
    "def id_mappings(user_list, item_list,customer_list):\n",
    "    '''Make the list of dictionary and map with indices to get used'''\n",
    "    dict_lst =[]\n",
    "    for lst in [user_list,item_list,customer_list]:\n",
    "        dict_lst.append({_id:_index for _index, _id in enumerate(lst)})\n",
    "        dict_lst.append({_index:_id for _index, _id in enumerate(lst)})\n",
    "        \n",
    "    return dict_lst[0], dict_lst[1], dict_lst[2], dict_lst[3],dict_lst[4]\n",
    "\n",
    "\n",
    "def recommendation_dataframe(to_recommend, model, subject, products):\n",
    "        (recommend_count, name_target) = (50, \"userTargetProducts\") if subject == 'UserId' \\\n",
    "            else (200, \"customerTargetProducts\")\n",
    "        usr_dict_pdoct = {}\n",
    "        for user in to_recommend:\n",
    "            import numpy as np\n",
    "            RecScore = model.predict(user_ids=user, item_ids=products)\n",
    "            top_items = products[np.argsort(-RecScore)][:recommend_count]\n",
    "    #             top_items = [productId_dict_Guid[p] for p in top_items]\n",
    "            usr_dict_pdoct.update({user: list(top_items)})\n",
    "\n",
    "        df_recommend = pd.DataFrame(list(usr_dict_pdoct.items()), columns=[subject, name_target])\n",
    "        return df_recommend"
   ]
  },
  {
   "cell_type": "code",
   "execution_count": 11,
   "metadata": {},
   "outputs": [],
   "source": [
    "@time_to_run\n",
    "def ratings(df1, subject):\n",
    "    counting = \"UserId\" if subject=='CustomerId' else 'CustomerId'\n",
    "    import swifter\n",
    "    df = df1.copy()\n",
    "    df = df[[subject, 'ProductId', 'ProductQuantity',counting]]\n",
    "    df_grp = df.groupby([subject, 'ProductId']).agg({counting: 'count', 'ProductQuantity': 'sum'})\n",
    "    df_grp = df_grp.reset_index().sort_values('ProductQuantity', ascending=False)\n",
    "    df_grp = df_grp.rename(columns={counting: 'NoOfPurchase'})\n",
    "    QuantMean = df_grp['ProductQuantity'].mean()\n",
    "\n",
    "    def rating(row1, row2):\n",
    "        A = (1 <= row1 <= 2)\n",
    "        B = (3 <= row1 <= 6)\n",
    "        C = (7 <= row1)\n",
    "        X = (3 < row2 <= QuantMean)\n",
    "        Y = (QuantMean < row2)\n",
    "        Z = row2 <= 3\n",
    "        return 1 if Z else (2 if A and X else (3 if A and Y else (4 if B and X else\n",
    "                                                                  (5 if B and Y else (6 if C and X else 7)))))\n",
    "\n",
    "    df_grp['ratings'] = df_grp.swifter.progress_bar(False).apply(\n",
    "        lambda row: rating(row.NoOfPurchase, row.ProductQuantity), axis=1) if df_grp.shape[0] > 2000 else df_grp.apply(\n",
    "        lambda row: rating(row.NoOfPurchase, row.ProductQuantity), axis=1)\n",
    "#     df_grp['viewCount'] =  np.random.choice([1, 0], df_grp.shape[0])\n",
    "    return df_grp[[subject, 'ratings', 'ProductId']]"
   ]
  },
  {
   "cell_type": "markdown",
   "metadata": {},
   "source": [
    "### Here, we will get order data as a interaction matrix for lightFM model."
   ]
  },
  {
   "cell_type": "code",
   "execution_count": 13,
   "metadata": {},
   "outputs": [],
   "source": [
    "dframe_model = orderDataRaw[dict_list['recommend']]"
   ]
  },
  {
   "cell_type": "code",
   "execution_count": 15,
   "metadata": {},
   "outputs": [
    {
     "data": {
      "text/html": [
       "<div>\n",
       "<style scoped>\n",
       "    .dataframe tbody tr th:only-of-type {\n",
       "        vertical-align: middle;\n",
       "    }\n",
       "\n",
       "    .dataframe tbody tr th {\n",
       "        vertical-align: top;\n",
       "    }\n",
       "\n",
       "    .dataframe thead th {\n",
       "        text-align: right;\n",
       "    }\n",
       "</style>\n",
       "<table border=\"1\" class=\"dataframe\">\n",
       "  <thead>\n",
       "    <tr style=\"text-align: right;\">\n",
       "      <th></th>\n",
       "      <th>ProductQuantity</th>\n",
       "      <th>UserId</th>\n",
       "      <th>ProductId</th>\n",
       "      <th>CustomerId</th>\n",
       "    </tr>\n",
       "  </thead>\n",
       "  <tbody>\n",
       "    <tr>\n",
       "      <th>0</th>\n",
       "      <td>18</td>\n",
       "      <td>0</td>\n",
       "      <td>0</td>\n",
       "      <td>0</td>\n",
       "    </tr>\n",
       "    <tr>\n",
       "      <th>1</th>\n",
       "      <td>45</td>\n",
       "      <td>1</td>\n",
       "      <td>1</td>\n",
       "      <td>1</td>\n",
       "    </tr>\n",
       "    <tr>\n",
       "      <th>2</th>\n",
       "      <td>55</td>\n",
       "      <td>2</td>\n",
       "      <td>2</td>\n",
       "      <td>2</td>\n",
       "    </tr>\n",
       "    <tr>\n",
       "      <th>3</th>\n",
       "      <td>19</td>\n",
       "      <td>3</td>\n",
       "      <td>3</td>\n",
       "      <td>3</td>\n",
       "    </tr>\n",
       "    <tr>\n",
       "      <th>4</th>\n",
       "      <td>66</td>\n",
       "      <td>4</td>\n",
       "      <td>4</td>\n",
       "      <td>4</td>\n",
       "    </tr>\n",
       "  </tbody>\n",
       "</table>\n",
       "</div>"
      ],
      "text/plain": [
       "   ProductQuantity  UserId  ProductId  CustomerId\n",
       "0               18       0          0           0\n",
       "1               45       1          1           1\n",
       "2               55       2          2           2\n",
       "3               19       3          3           3\n",
       "4               66       4          4           4"
      ]
     },
     "execution_count": 15,
     "metadata": {},
     "output_type": "execute_result"
    }
   ],
   "source": [
    "dframe_model.head()"
   ]
  },
  {
   "cell_type": "code",
   "execution_count": 16,
   "metadata": {},
   "outputs": [],
   "source": [
    "user, customer = \"UserId\", \"CustomerId\""
   ]
  },
  {
   "cell_type": "code",
   "execution_count": 17,
   "metadata": {},
   "outputs": [
    {
     "name": "stdout",
     "output_type": "stream",
     "text": [
      "ratings function took 0.648 min\n"
     ]
    }
   ],
   "source": [
    "# For instance, only consider user based model\n",
    "rating_Frame = ratings(dframe_model, user)"
   ]
  },
  {
   "cell_type": "code",
   "execution_count": 21,
   "metadata": {},
   "outputs": [
    {
     "name": "stdout",
     "output_type": "stream",
     "text": [
      "User Featutes None\n",
      "Item Featutes None\n"
     ]
    }
   ],
   "source": [
    "user_model = model_(rating_Frame, user)\n",
    "#Serialize the model\n",
    "import pickle\n",
    "serializedModelObject = pickle.dumps(user_model)"
   ]
  },
  {
   "cell_type": "code",
   "execution_count": 23,
   "metadata": {},
   "outputs": [],
   "source": [
    "model_name = 'modelUser_{0}'.format(guid_dict_webName[webGuid])"
   ]
  },
  {
   "cell_type": "code",
   "execution_count": 24,
   "metadata": {},
   "outputs": [
    {
     "data": {
      "text/plain": [
       "'modelUser_positive_promotions'"
      ]
     },
     "execution_count": 24,
     "metadata": {},
     "output_type": "execute_result"
    }
   ],
   "source": [
    "model_name"
   ]
  },
  {
   "cell_type": "code",
   "execution_count": 31,
   "metadata": {},
   "outputs": [],
   "source": [
    "bucket_name= 'model2amazon'"
   ]
  },
  {
   "cell_type": "markdown",
   "metadata": {},
   "source": [
    "## 5. Create S3 bucket and put the model.\n"
   ]
  },
  {
   "cell_type": "code",
   "execution_count": null,
   "metadata": {
    "scrolled": false
   },
   "outputs": [],
   "source": [
    "s3.create_bucket(Bucket=bucket_name)"
   ]
  },
  {
   "cell_type": "code",
   "execution_count": 26,
   "metadata": {},
   "outputs": [
    {
     "name": "stdout",
     "output_type": "stream",
     "text": [
      "model2amazon\n"
     ]
    }
   ],
   "source": [
    "for bucket in s3.buckets.all():\n",
    "    print(bucket.name)"
   ]
  },
  {
   "cell_type": "code",
   "execution_count": 25,
   "metadata": {},
   "outputs": [
    {
     "data": {
      "text/plain": [
       "s3.Object(bucket_name='model2amazon', key='modelUser_positive_promotions')"
      ]
     },
     "execution_count": 25,
     "metadata": {},
     "output_type": "execute_result"
    }
   ],
   "source": [
    "# s3.Object(bucket_name, model_name).delete()    # if model already exist and need to re-create it.\n",
    "s3.Bucket(bucket_name).put_object(Key= model_name, \n",
    "                                  Body=serializedModelObject);"
   ]
  },
  {
   "cell_type": "markdown",
   "metadata": {},
   "source": [
    "## 6. Get the model from S3 bucket\n"
   ]
  },
  {
   "cell_type": "code",
   "execution_count": 32,
   "metadata": {},
   "outputs": [],
   "source": [
    "import pickle\n",
    "my_pickle_model = pickle.loads(s3.Bucket(bucket_name).\n",
    "                         Object(model_name).get()['Body'].read())"
   ]
  },
  {
   "cell_type": "code",
   "execution_count": 36,
   "metadata": {},
   "outputs": [],
   "source": [
    "usersId_to_recommend = dframe_model['UserId'].unique()\n",
    "productsId_to_recommend = dframe_model['ProductId'].unique()\n",
    "user= \"UserId\""
   ]
  },
  {
   "cell_type": "code",
   "execution_count": null,
   "metadata": {},
   "outputs": [],
   "source": [
    "user_Rcommendation = recommendation_dataframe(usersId_to_recommend, my_pickle_model, user, productsId_to_recommend)"
   ]
  },
  {
   "cell_type": "code",
   "execution_count": 40,
   "metadata": {},
   "outputs": [
    {
     "data": {
      "text/html": [
       "<div>\n",
       "<style scoped>\n",
       "    .dataframe tbody tr th:only-of-type {\n",
       "        vertical-align: middle;\n",
       "    }\n",
       "\n",
       "    .dataframe tbody tr th {\n",
       "        vertical-align: top;\n",
       "    }\n",
       "\n",
       "    .dataframe thead th {\n",
       "        text-align: right;\n",
       "    }\n",
       "</style>\n",
       "<table border=\"1\" class=\"dataframe\">\n",
       "  <thead>\n",
       "    <tr style=\"text-align: right;\">\n",
       "      <th></th>\n",
       "      <th>UserId</th>\n",
       "      <th>userTargetProducts</th>\n",
       "    </tr>\n",
       "  </thead>\n",
       "  <tbody>\n",
       "    <tr>\n",
       "      <th>0</th>\n",
       "      <td>0</td>\n",
       "      <td>[2, 1535, 968, 12621, 2924, 12003, 2437, 1438,...</td>\n",
       "    </tr>\n",
       "    <tr>\n",
       "      <th>1</th>\n",
       "      <td>1</td>\n",
       "      <td>[2, 1535, 12621, 968, 2924, 1438, 2437, 8383, ...</td>\n",
       "    </tr>\n",
       "    <tr>\n",
       "      <th>2</th>\n",
       "      <td>2</td>\n",
       "      <td>[2, 1535, 12621, 12003, 2924, 968, 2437, 2262,...</td>\n",
       "    </tr>\n",
       "    <tr>\n",
       "      <th>3</th>\n",
       "      <td>3</td>\n",
       "      <td>[2, 968, 1535, 12621, 2924, 12003, 2437, 1438,...</td>\n",
       "    </tr>\n",
       "    <tr>\n",
       "      <th>4</th>\n",
       "      <td>4</td>\n",
       "      <td>[2, 1535, 968, 12621, 2924, 2437, 12003, 8383,...</td>\n",
       "    </tr>\n",
       "  </tbody>\n",
       "</table>\n",
       "</div>"
      ],
      "text/plain": [
       "   UserId                                 userTargetProducts\n",
       "0       0  [2, 1535, 968, 12621, 2924, 12003, 2437, 1438,...\n",
       "1       1  [2, 1535, 12621, 968, 2924, 1438, 2437, 8383, ...\n",
       "2       2  [2, 1535, 12621, 12003, 2924, 968, 2437, 2262,...\n",
       "3       3  [2, 968, 1535, 12621, 2924, 12003, 2437, 1438,...\n",
       "4       4  [2, 1535, 968, 12621, 2924, 2437, 12003, 8383,..."
      ]
     },
     "execution_count": 40,
     "metadata": {},
     "output_type": "execute_result"
    }
   ],
   "source": [
    "user_Rcommendation.head()"
   ]
  }
 ],
 "metadata": {
  "kernelspec": {
   "display_name": "Python 3",
   "language": "python",
   "name": "python3"
  },
  "language_info": {
   "codemirror_mode": {
    "name": "ipython",
    "version": 3
   },
   "file_extension": ".py",
   "mimetype": "text/x-python",
   "name": "python",
   "nbconvert_exporter": "python",
   "pygments_lexer": "ipython3",
   "version": "3.7.3"
  }
 },
 "nbformat": 4,
 "nbformat_minor": 2
}
