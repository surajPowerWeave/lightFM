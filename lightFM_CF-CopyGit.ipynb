{
 "cells": [
  {
   "cell_type": "markdown",
   "metadata": {},
   "source": [
    "### Customers who bought '[this item]' also bought '[that item]':\n",
    "1. Description  : Customers who bought this item also bought these items.\n",
    "2. Scenario     : Bought,Bought\n",
    "3. field name   : BoughtBoughtProducts\n",
    "4. Code Strategy: pure CF(bought)\n",
    "\n"
   ]
  },
  {
   "cell_type": "code",
   "execution_count": null,
   "metadata": {},
   "outputs": [],
   "source": [
    "def model_(df1, subject):\n",
    "    df = df1.copy()\n",
    "    from lightfm.data import Dataset\n",
    "    dataset = Dataset()\n",
    "    dataset.fit(users=df[subject].unique(), items=df.ProductId.unique())\n",
    "    (interactions, weights) = dataset.build_interactions([(x[subject], x['ProductId'], x['ratings'])\n",
    "                                                          for index, x in df.iterrows()])\n",
    "    \n",
    "    from lightfm import LightFM\n",
    "    model = LightFM(loss='warp')\n",
    "    model.fit(interactions, sample_weight=weights)\n",
    "    return model\n",
    "\n",
    "def id_mappings(user_list, item_list,customer_list):\n",
    "    '''Make the list of dictionary and map with indices to get used'''\n",
    "    dict_lst =[]\n",
    "    for lst in [user_list,item_list,customer_list]:\n",
    "        dict_lst.append({_id:_index for _index, _id in enumerate(lst)})\n",
    "        dict_lst.append({_index:_id for _index, _id in enumerate(lst)})\n",
    "        \n",
    "    return dict_lst[0], dict_lst[1], dict_lst[2], dict_lst[3],dict_lst[4]\n",
    "\n",
    "\n",
    "def recommendation_dataframe(to_recommend, model, subject, products):\n",
    "        (recommend_count, name_target) = (50, \"userTargetProducts\") if subject == 'UserId' \\\n",
    "            else (200, \"customerTargetProducts\")\n",
    "        usr_dict_pdoct = {}\n",
    "        for user in to_recommend:\n",
    "            RecScore = model.predict(user_ids=user, item_ids=products)\n",
    "            top_items = products[np.argsort(-RecScore)][:recommend_count]\n",
    "    #             top_items = [productId_dict_Guid[p] for p in top_items]\n",
    "            usr_dict_pdoct.update({user: list(top_items)})\n",
    "\n",
    "        df_recommend = pd.DataFrame(list(usr_dict_pdoct.items()), columns=[subject, name_target])\n",
    "        return df_recommend"
   ]
  },
  {
   "cell_type": "markdown",
   "metadata": {},
   "source": [
    "#### We need to consider User and Customer behavior and merge them as shown bellow:\n",
    "finally we need 20 products to recommend individual user"
   ]
  },
  {
   "cell_type": "code",
   "execution_count": 100,
   "metadata": {},
   "outputs": [],
   "source": [
    "def user_products_filtering(customer_to_recommend,products_to_recommend,customer_model,customer,user_Rcommend):\n",
    "    df_list = []\n",
    "\n",
    "    dframe_length = len(customer_to_recommend)\n",
    "    rows = dframe_length if dframe_length < 500 else dframe_length // 10\n",
    "    for row1 in range(0, dframe_length, rows):\n",
    "        subjectSlice = customer_to_recommend[row1:dframe_length] if \\\n",
    "            (row1 + rows) > dframe_length else customer_to_recommend[row1:(row1 + rows)]\n",
    "        customer_Rcommendation_slice = recommendation_dataframe(subjectSlice, customer_model, customer,\n",
    "                                                                products_to_recommend)\n",
    "        recommend_slice = user_Rcommend.merge(customer_Rcommendation_slice, on=customer)\n",
    "        recommend_slice['TargetProducts'] = recommend_slice.swifter.progress_bar(False).apply(\n",
    "            lambda row: {*row['userTargetProducts']} & {*row['customerTargetProducts']}, axis=1)\n",
    "        recommend_slice['customerTargetProducts'] = recommend_slice.swifter.progress_bar(False).apply(\n",
    "            lambda row: ({*row['customerTargetProducts']} - row['TargetProducts']), axis=1)\n",
    "        recommend_slice['TargetProducts'] = recommend_slice['TargetProducts'].swifter.progress_bar(\n",
    "            False).apply(list)\n",
    "        recommend_slice['customerTargetProducts'] = recommend_slice['customerTargetProducts'].swifter.progress_bar(\n",
    "            False).apply(list)\n",
    "        recommend_slice['TargetProducts'] = recommend_slice.swifter.progress_bar(False).apply(lambda row: (\n",
    "                row['TargetProducts'] + (row['customerTargetProducts'])[\n",
    "                                              :(20 - len(row['TargetProducts']))]) if len(\n",
    "            row['TargetProducts']) < 20 else row['TargetProducts'], axis=1)\n",
    "        recommend_slice.drop(['userTargetProducts', 'customerTargetProducts', customer], axis=1, inplace=True)\n",
    "        df_list.append(recommend_slice)\n",
    "    whole_df = pd.concat(df_list)\n",
    "    return whole_df"
   ]
  },
  {
   "cell_type": "markdown",
   "metadata": {},
   "source": [
    "## How to save and load model"
   ]
  },
  {
   "cell_type": "code",
   "execution_count": 142,
   "metadata": {},
   "outputs": [],
   "source": [
    "import pickle\n",
    "def save_model(model, model_name, model_collection):\n",
    "    from datetime import datetime as dt\n",
    "    pickled_model = pickle.dumps(model)  # pickling the model\n",
    "    mycon = db[model_collection]\n",
    "    mycon.delete_one({'name': model_name})\n",
    "    info = mycon.insert_one({model_name: pickled_model, 'name': model_name, 'trained_on':str(dt.utcnow().date())})\n",
    "    print(info.inserted_id, ' saved with this id successfully!')\n",
    "#     details = {'model_name':model_name, 'inserted_id': info.inserted_id, 'trained_on': str(dt.utcnow().date())}\n",
    "    return \n",
    "  \n",
    "def load_saved_model(model_name, model_collection):\n",
    "    conn = db[model_collection]\n",
    "    data = conn.find({'name': model_name})\n",
    "    for i in data:\n",
    "        json_data = i\n",
    "    pickled_model = json_data[model_name]\n",
    "    return pickle.loads(pickled_model) "
   ]
  },
  {
   "cell_type": "code",
   "execution_count": 143,
   "metadata": {},
   "outputs": [],
   "source": [
    "def create_and_save_model(df1, webGuid,user,customer):\n",
    "    df = df1.copy()        \n",
    "    user_model = model_(ratings(df, user), user)\n",
    "    customer_model = model_(ratings(df, customer), customer)\n",
    "    save_model(model = user_model, model_collection = 'model_for_recommend', model_name = 'modelUser_{0}'.format(guid_dict_webName[webGuid]))\n",
    "    save_model(model = customer_model, model_collection = 'model_for_recommend', model_name = 'modelCustomer_{0}'.format(guid_dict_webName[webGuid]))"
   ]
  },
  {
   "cell_type": "markdown",
   "metadata": {},
   "source": [
    "### Prepare product order data with the bellow mentioned fields which has integer values as Id\n",
    "dframe_model consist of following columns:\n",
    "'UserGuid', 'ProductGuid', 'CustomerGuid','ratings'"
   ]
  },
  {
   "cell_type": "code",
   "execution_count": null,
   "metadata": {},
   "outputs": [],
   "source": [
    "import pandas as pd\n",
    "df_users,df_products,df_customers = (dframe_model.UserGuid.unique(),dframe_model.ProductGuid.unique(),dframe_model.CompanyName.unique())\n",
    "\n",
    "userGuid_dict_Id,userId_dict_Guid, productGuid_dict_Id,productId_dict_Guid, CompanyName_dict_Id = \\\n",
    "id_mappings(df_users,df_products,df_customers)\n",
    "\n",
    "dframe_model['UserId'] = dframe_model['UserGuid'].map(userGuid_dict_Id)\n",
    "dframe_model['ProductId'] = dframe_model['ProductGuid'].map(productGuid_dict_Id)\n",
    "dframe_model['CustomerId'] = dframe_model['CompanyName'].map(CompanyName_dict_Id)\n",
    "del dframe_model['UserGuid']\n",
    "del dframe_model['ProductGuid']\n",
    "del dframe_model['CompanyName']    "
   ]
  },
  {
   "cell_type": "markdown",
   "metadata": {},
   "source": [
    "Now, we got dataFrame which is desire for lightFM model building input "
   ]
  },
  {
   "cell_type": "code",
   "execution_count": 86,
   "metadata": {},
   "outputs": [],
   "source": [
    "users_to_recommend,customers_to_recommend,products_to_recommend= \\\n",
    "dframe_model.UserId.unique(), dframe_model.CustomerId.unique(),dframe_model.ProductId.unique()\n",
    "\n",
    "user, customer = \"UserId\", \"CustomerId\""
   ]
  },
  {
   "cell_type": "markdown",
   "metadata": {},
   "source": [
    "### Now, create the model and save into mongoDB"
   ]
  },
  {
   "cell_type": "code",
   "execution_count": 146,
   "metadata": {
    "scrolled": true
   },
   "outputs": [
    {
     "name": "stdout",
     "output_type": "stream",
     "text": [
      "ratings function took 0.001 min\n",
      "User Featutes None\n",
      "Item Featutes None\n",
      "ratings function took 0.001 min\n",
      "User Featutes None\n",
      "Item Featutes None\n",
      "5e1420dca13218bdd9fbf7f4  saved with this id successfully!\n",
      "5e1420dda13218bdd9fbf7f5  saved with this id successfully!\n"
     ]
    }
   ],
   "source": [
    "create_and_save_model(dframe_model,webGuid,user,customer)"
   ]
  },
  {
   "cell_type": "markdown",
   "metadata": {},
   "source": [
    "### you can retrieve model from mongoDB using following function"
   ]
  },
  {
   "cell_type": "code",
   "execution_count": 129,
   "metadata": {},
   "outputs": [],
   "source": [
    "user_model  = load_saved_model(model_name = 'modelUser_{0}'.format(guid_dict_webName[webGuid]), model_collection = 'model_for_recommend')\n",
    "customer_model  = load_saved_model(model_name = 'modelCustomer_{0}'.format(guid_dict_webName[webGuid]), model_collection = 'model_for_recommend')"
   ]
  },
  {
   "cell_type": "markdown",
   "metadata": {},
   "source": [
    "### get the product recommnedatin based on model built "
   ]
  },
  {
   "cell_type": "code",
   "execution_count": null,
   "metadata": {
    "scrolled": false
   },
   "outputs": [],
   "source": [
    "user_Rcommendation = recommendation_dataframe(users_to_recommend, user_model, user, products_to_recommend)"
   ]
  },
  {
   "cell_type": "markdown",
   "metadata": {},
   "source": [
    "#### Regain Guid values:"
   ]
  },
  {
   "cell_type": "code",
   "execution_count": null,
   "metadata": {},
   "outputs": [],
   "source": [
    "user_Rcommendation['UserGuid'] = user_Rcommendation['UserId'].map(userId_dict_Guid)\n",
    "\n",
    "user_Rcommendation['ModelProducts'] = user_Rcommendation['userTargetProducts'].swifter.progress_bar(False)\\\n",
    ".apply(lambda row: [productId_dict_Guid.get(product) for product in row]) \n",
    "del user_Rcommendation['UserId']\n",
    "del user_Rcommendation['userTargetProducts']"
   ]
  },
  {
   "cell_type": "markdown",
   "metadata": {},
   "source": [
    "In this way you will see the actual values of product and user which is defined in original order dataframe"
   ]
  },
  {
   "cell_type": "code",
   "execution_count": null,
   "metadata": {},
   "outputs": [],
   "source": [
    "user_Rcommendation.head()"
   ]
  }
 ],
 "metadata": {
  "kernelspec": {
   "display_name": "Python 3",
   "language": "python",
   "name": "python3"
  },
  "language_info": {
   "codemirror_mode": {
    "name": "ipython",
    "version": 3
   },
   "file_extension": ".py",
   "mimetype": "text/x-python",
   "name": "python",
   "nbconvert_exporter": "python",
   "pygments_lexer": "ipython3",
   "version": "3.7.3"
  }
 },
 "nbformat": 4,
 "nbformat_minor": 2
}
